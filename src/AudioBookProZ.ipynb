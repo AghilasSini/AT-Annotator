{
 "cells": [
  {
   "cell_type": "code",
   "execution_count": 1,
   "metadata": {},
   "outputs": [
    {
     "name": "stdout",
     "output_type": "stream",
     "text": [
      "Hello World\n"
     ]
    }
   ],
   "source": [
    "print(\"Hello World\")"
   ]
  },
  {
   "cell_type": "code",
   "execution_count": 7,
   "metadata": {},
   "outputs": [],
   "source": [
    "import sys,os\n",
    "import argparse\n",
    "import pickle as pickle\n",
    "\n",
    "import numpy as np\n",
    "import matplotlib.pyplot as plt\n",
    "from pystruct.datasets import load_letters\n",
    "from pystruct.models import ChainCRF\n",
    "from pystruct.learners import FrankWolfeSSVM"
   ]
  },
  {
   "cell_type": "code",
   "execution_count": null,
   "metadata": {
    "collapsed": true
   },
   "outputs": [],
   "source": []
  },
  {
   "cell_type": "code",
   "execution_count": 17,
   "metadata": {
    "collapsed": true
   },
   "outputs": [],
   "source": [
    "def build_arg_parser():\n",
    "    parser = argparse.ArgumentParser(description='Trains the CRF classifier')\n",
    "    parser.add_argument(\"--c-value\",dest=\"c_value\",required=False,type=float,default=1.0, help=\"The C value that will be used for training \")\n",
    "    return parser"
   ]
  },
  {
   "cell_type": "code",
   "execution_count": 18,
   "metadata": {
    "collapsed": true
   },
   "outputs": [],
   "source": [
    "class CRFTrainer(object):\n",
    "    def __init__(self,c_value,classifier_name='ChainCRF'):\n",
    "        self.c_value=c_value\n",
    "        self.classifier_name=classifier_name\n",
    "        if classifier_name==\"ChainCRF\":\n",
    "            model= ChainCRF()\n",
    "            self.clf=FrankWolfeSSVM(model=model,C=self.c_value,max_tier=50)\n",
    "        else:\n",
    "            raise TypeError(\"Invalid classifier type\")\n",
    "    \n",
    "    def load_data(self):\n",
    "        letters=load_letters()\n",
    "        X,y,folds=letters['data'],letters['labels'],letters['folds']\n",
    "        X,y=np.array(X),np.array(y)\n",
    "        return X,y,folds\n",
    "    \n",
    "    def train(self,X_train,y_train):\n",
    "        self.clf.fit(X_train,y_train)\n",
    "    \n",
    "    def evaluate(self,X_test,y_test):\n",
    "        return self.clf.score(X_test,y_test)\n",
    "    \n",
    "    def classify(self,input_data):\n",
    "        return self.clf.predict(input_data)[0]\n",
    "\n",
    "def decoder(arr):\n",
    "    alphabets='azertyuiopqsdfghjklmwxcvbn'\n",
    "    output=''\n",
    "    for i in arr:\n",
    "        output +=alphabets[i]\n",
    "    return output"
   ]
  },
  {
   "cell_type": "code",
   "execution_count": 20,
   "metadata": {},
   "outputs": [
    {
     "name": "stderr",
     "output_type": "stream",
     "text": [
      "usage: ipykernel_launcher.py [-h] [--c-value C_VALUE]\n",
      "ipykernel_launcher.py: error: unrecognized arguments: -f /run/user/1000/jupyter/kernel-66ce54b9-6359-4780-ac82-dded51064440.json\n"
     ]
    },
    {
     "ename": "SystemExit",
     "evalue": "2",
     "output_type": "error",
     "traceback": [
      "An exception has occurred, use %tb to see the full traceback.\n",
      "\u001b[0;31mSystemExit\u001b[0m\u001b[0;31m:\u001b[0m 2\n"
     ]
    },
    {
     "name": "stderr",
     "output_type": "stream",
     "text": [
      "/home/aghilas/anaconda3/lib/python3.6/site-packages/IPython/core/interactiveshell.py:2870: UserWarning: To exit: use 'exit', 'quit', or Ctrl-D.\n",
      "  warn(\"To exit: use 'exit', 'quit', or Ctrl-D.\", stacklevel=1)\n"
     ]
    }
   ],
   "source": [
    "def main():\n",
    "    args =  build_arg_parser().parse_args()\n",
    "    c_value= args.c_value\n",
    "    crf=CRFTrainer(c_value)\n",
    "    X,y,folds=crf.load_data()\n",
    "    X_train,X_test=X[folds==1],X[folds!=1]\n",
    "    y_train,y_test=y[folds==1],y[folds!=1]\n",
    "    print(\"\\nTraining the CRF model ...\")\n",
    "    crf.train(X_train,y_train)\n",
    "    \n",
    "    score=crf.evaluate(X_test,y_test)\n",
    "    print('\\nAccuracy score = ',str(round(score*100,2))+'%')\n",
    "    \n",
    "    print('\\nTrue label =',decoder(y_test[0]))\n",
    "    predited_output=crf.classify([X_test[0]])\n",
    "    print('Predicted output=',decoder(predicted_output))\n",
    "if __name__=='__main__':\n",
    "    main()"
   ]
  },
  {
   "cell_type": "code",
   "execution_count": null,
   "metadata": {
    "collapsed": true
   },
   "outputs": [],
   "source": []
  },
  {
   "cell_type": "code",
   "execution_count": null,
   "metadata": {
    "collapsed": true
   },
   "outputs": [],
   "source": []
  },
  {
   "cell_type": "code",
   "execution_count": null,
   "metadata": {
    "collapsed": true
   },
   "outputs": [],
   "source": []
  }
 ],
 "metadata": {
  "kernelspec": {
   "display_name": "Python 3",
   "language": "python",
   "name": "python3"
  },
  "language_info": {
   "codemirror_mode": {
    "name": "ipython",
    "version": 3
   },
   "file_extension": ".py",
   "mimetype": "text/x-python",
   "name": "python",
   "nbconvert_exporter": "python",
   "pygments_lexer": "ipython3",
   "version": "3.6.3"
  }
 },
 "nbformat": 4,
 "nbformat_minor": 2
}
